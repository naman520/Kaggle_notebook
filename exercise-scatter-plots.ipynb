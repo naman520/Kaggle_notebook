{
 "cells": [
  {
   "cell_type": "markdown",
   "id": "9e434923",
   "metadata": {
    "papermill": {
     "duration": 0.013522,
     "end_time": "2023-09-10T17:55:55.505502",
     "exception": false,
     "start_time": "2023-09-10T17:55:55.491980",
     "status": "completed"
    },
    "tags": []
   },
   "source": [
    "**This notebook is an exercise in the [Data Visualization](https://www.kaggle.com/learn/data-visualization) course.  You can reference the tutorial at [this link](https://www.kaggle.com/alexisbcook/scatter-plots).**\n",
    "\n",
    "---\n"
   ]
  },
  {
   "cell_type": "markdown",
   "id": "40ce7f15",
   "metadata": {
    "papermill": {
     "duration": 0.012397,
     "end_time": "2023-09-10T17:55:55.530942",
     "exception": false,
     "start_time": "2023-09-10T17:55:55.518545",
     "status": "completed"
    },
    "tags": []
   },
   "source": [
    "In this exercise, you will use your new knowledge to propose a solution to a real-world scenario.  To succeed, you will need to import data into Python, answer questions using the data, and generate **scatter plots** to understand patterns in the data.\n",
    "\n",
    "## Scenario\n",
    "\n",
    "You work for a major candy producer, and your goal is to write a report that your company can use to guide the design of its next product.  Soon after starting your research, you stumble across this [very interesting dataset](https://fivethirtyeight.com/features/the-ultimate-halloween-candy-power-ranking/) containing results from a fun survey to crowdsource favorite candies.\n",
    "\n",
    "## Setup\n",
    "\n",
    "Run the next cell to import and configure the Python libraries that you need to complete the exercise."
   ]
  },
  {
   "cell_type": "code",
   "execution_count": 1,
   "id": "67a355e3",
   "metadata": {
    "execution": {
     "iopub.execute_input": "2023-09-10T17:55:55.558349Z",
     "iopub.status.busy": "2023-09-10T17:55:55.557952Z",
     "iopub.status.idle": "2023-09-10T17:55:57.641765Z",
     "shell.execute_reply": "2023-09-10T17:55:57.640143Z"
    },
    "papermill": {
     "duration": 2.100742,
     "end_time": "2023-09-10T17:55:57.644488",
     "exception": false,
     "start_time": "2023-09-10T17:55:55.543746",
     "status": "completed"
    },
    "tags": []
   },
   "outputs": [
    {
     "name": "stdout",
     "output_type": "stream",
     "text": [
      "Setup Complete\n"
     ]
    }
   ],
   "source": [
    "import pandas as pd\n",
    "pd.plotting.register_matplotlib_converters()\n",
    "import matplotlib.pyplot as plt\n",
    "%matplotlib inline\n",
    "import seaborn as sns\n",
    "print(\"Setup Complete\")"
   ]
  },
  {
   "cell_type": "markdown",
   "id": "5ad51238",
   "metadata": {
    "papermill": {
     "duration": 0.012902,
     "end_time": "2023-09-10T17:55:57.670464",
     "exception": false,
     "start_time": "2023-09-10T17:55:57.657562",
     "status": "completed"
    },
    "tags": []
   },
   "source": [
    "The questions below will give you feedback on your work. Run the following cell to set up our feedback system."
   ]
  },
  {
   "cell_type": "code",
   "execution_count": 2,
   "id": "46d460a4",
   "metadata": {
    "execution": {
     "iopub.execute_input": "2023-09-10T17:55:57.698328Z",
     "iopub.status.busy": "2023-09-10T17:55:57.697755Z",
     "iopub.status.idle": "2023-09-10T17:55:57.772619Z",
     "shell.execute_reply": "2023-09-10T17:55:57.771497Z"
    },
    "papermill": {
     "duration": 0.091809,
     "end_time": "2023-09-10T17:55:57.775204",
     "exception": false,
     "start_time": "2023-09-10T17:55:57.683395",
     "status": "completed"
    },
    "tags": []
   },
   "outputs": [
    {
     "name": "stdout",
     "output_type": "stream",
     "text": [
      "Setup Complete\n"
     ]
    }
   ],
   "source": [
    "# Set up code checking\n",
    "import os\n",
    "if not os.path.exists(\"../input/candy.csv\"):\n",
    "    os.symlink(\"../input/data-for-datavis/candy.csv\", \"../input/candy.csv\") \n",
    "from learntools.core import binder\n",
    "binder.bind(globals())\n",
    "from learntools.data_viz_to_coder.ex4 import *\n",
    "print(\"Setup Complete\")"
   ]
  },
  {
   "cell_type": "markdown",
   "id": "d1821e7a",
   "metadata": {
    "papermill": {
     "duration": 0.012566,
     "end_time": "2023-09-10T17:55:57.801294",
     "exception": false,
     "start_time": "2023-09-10T17:55:57.788728",
     "status": "completed"
    },
    "tags": []
   },
   "source": [
    "## Step 1: Load the Data\n",
    "\n",
    "Read the candy data file into `candy_data`.  Use the `\"id\"` column to label the rows."
   ]
  },
  {
   "cell_type": "code",
   "execution_count": 3,
   "id": "067fb3f0",
   "metadata": {
    "execution": {
     "iopub.execute_input": "2023-09-10T17:55:57.830883Z",
     "iopub.status.busy": "2023-09-10T17:55:57.829606Z",
     "iopub.status.idle": "2023-09-10T17:55:57.849837Z",
     "shell.execute_reply": "2023-09-10T17:55:57.848678Z"
    },
    "papermill": {
     "duration": 0.037479,
     "end_time": "2023-09-10T17:55:57.852302",
     "exception": false,
     "start_time": "2023-09-10T17:55:57.814823",
     "status": "completed"
    },
    "tags": []
   },
   "outputs": [
    {
     "data": {
      "application/javascript": [
       "parent.postMessage({\"jupyterEvent\": \"custom.exercise_interaction\", \"data\": {\"outcomeType\": 1, \"valueTowardsCompletion\": 0.3333333333333333, \"interactionType\": 1, \"questionType\": 1, \"questionId\": \"1_LoadData\", \"learnToolsVersion\": \"0.3.4\", \"failureMessage\": \"\", \"exceptionClass\": \"\", \"trace\": \"\"}}, \"*\")"
      ],
      "text/plain": [
       "<IPython.core.display.Javascript object>"
      ]
     },
     "metadata": {},
     "output_type": "display_data"
    },
    {
     "data": {
      "text/markdown": [
       "<span style=\"color:#33cc33\">Correct</span>"
      ],
      "text/plain": [
       "Correct"
      ]
     },
     "metadata": {},
     "output_type": "display_data"
    }
   ],
   "source": [
    "# Path of the file to read\n",
    "candy_filepath = \"../input/candy.csv\"\n",
    "\n",
    "# Fill in the line below to read the file into a variable candy_data\n",
    "candy_data = pd.read_csv(candy_filepath, index_col='id')\n",
    "\n",
    "# Run the line below with no changes to check that you've loaded the data correctly\n",
    "step_1.check()"
   ]
  },
  {
   "cell_type": "code",
   "execution_count": 4,
   "id": "460abb58",
   "metadata": {
    "execution": {
     "iopub.execute_input": "2023-09-10T17:55:57.882871Z",
     "iopub.status.busy": "2023-09-10T17:55:57.881556Z",
     "iopub.status.idle": "2023-09-10T17:55:57.886717Z",
     "shell.execute_reply": "2023-09-10T17:55:57.885828Z"
    },
    "papermill": {
     "duration": 0.02293,
     "end_time": "2023-09-10T17:55:57.888965",
     "exception": false,
     "start_time": "2023-09-10T17:55:57.866035",
     "status": "completed"
    },
    "tags": []
   },
   "outputs": [],
   "source": [
    "# Lines below will give you a hint or solution code\n",
    "#step_1.hint()\n",
    "#step_1.solution()"
   ]
  },
  {
   "cell_type": "markdown",
   "id": "a495a61a",
   "metadata": {
    "papermill": {
     "duration": 0.01301,
     "end_time": "2023-09-10T17:55:57.915692",
     "exception": false,
     "start_time": "2023-09-10T17:55:57.902682",
     "status": "completed"
    },
    "tags": []
   },
   "source": [
    "## Step 2: Review the data\n",
    "\n",
    "Use a Python command to print the first five rows of the data."
   ]
  },
  {
   "cell_type": "code",
   "execution_count": 5,
   "id": "06c002ce",
   "metadata": {
    "execution": {
     "iopub.execute_input": "2023-09-10T17:55:57.944865Z",
     "iopub.status.busy": "2023-09-10T17:55:57.944454Z",
     "iopub.status.idle": "2023-09-10T17:55:57.967803Z",
     "shell.execute_reply": "2023-09-10T17:55:57.966540Z"
    },
    "papermill": {
     "duration": 0.041373,
     "end_time": "2023-09-10T17:55:57.970510",
     "exception": false,
     "start_time": "2023-09-10T17:55:57.929137",
     "status": "completed"
    },
    "tags": []
   },
   "outputs": [
    {
     "data": {
      "text/html": [
       "<div>\n",
       "<style scoped>\n",
       "    .dataframe tbody tr th:only-of-type {\n",
       "        vertical-align: middle;\n",
       "    }\n",
       "\n",
       "    .dataframe tbody tr th {\n",
       "        vertical-align: top;\n",
       "    }\n",
       "\n",
       "    .dataframe thead th {\n",
       "        text-align: right;\n",
       "    }\n",
       "</style>\n",
       "<table border=\"1\" class=\"dataframe\">\n",
       "  <thead>\n",
       "    <tr style=\"text-align: right;\">\n",
       "      <th></th>\n",
       "      <th>competitorname</th>\n",
       "      <th>chocolate</th>\n",
       "      <th>fruity</th>\n",
       "      <th>caramel</th>\n",
       "      <th>peanutyalmondy</th>\n",
       "      <th>nougat</th>\n",
       "      <th>crispedricewafer</th>\n",
       "      <th>hard</th>\n",
       "      <th>bar</th>\n",
       "      <th>pluribus</th>\n",
       "      <th>sugarpercent</th>\n",
       "      <th>pricepercent</th>\n",
       "      <th>winpercent</th>\n",
       "    </tr>\n",
       "    <tr>\n",
       "      <th>id</th>\n",
       "      <th></th>\n",
       "      <th></th>\n",
       "      <th></th>\n",
       "      <th></th>\n",
       "      <th></th>\n",
       "      <th></th>\n",
       "      <th></th>\n",
       "      <th></th>\n",
       "      <th></th>\n",
       "      <th></th>\n",
       "      <th></th>\n",
       "      <th></th>\n",
       "      <th></th>\n",
       "    </tr>\n",
       "  </thead>\n",
       "  <tbody>\n",
       "    <tr>\n",
       "      <th>0</th>\n",
       "      <td>100 Grand</td>\n",
       "      <td>Yes</td>\n",
       "      <td>No</td>\n",
       "      <td>Yes</td>\n",
       "      <td>No</td>\n",
       "      <td>No</td>\n",
       "      <td>Yes</td>\n",
       "      <td>No</td>\n",
       "      <td>Yes</td>\n",
       "      <td>No</td>\n",
       "      <td>0.732</td>\n",
       "      <td>0.860</td>\n",
       "      <td>66.971725</td>\n",
       "    </tr>\n",
       "    <tr>\n",
       "      <th>1</th>\n",
       "      <td>3 Musketeers</td>\n",
       "      <td>Yes</td>\n",
       "      <td>No</td>\n",
       "      <td>No</td>\n",
       "      <td>No</td>\n",
       "      <td>Yes</td>\n",
       "      <td>No</td>\n",
       "      <td>No</td>\n",
       "      <td>Yes</td>\n",
       "      <td>No</td>\n",
       "      <td>0.604</td>\n",
       "      <td>0.511</td>\n",
       "      <td>67.602936</td>\n",
       "    </tr>\n",
       "    <tr>\n",
       "      <th>2</th>\n",
       "      <td>Air Heads</td>\n",
       "      <td>No</td>\n",
       "      <td>Yes</td>\n",
       "      <td>No</td>\n",
       "      <td>No</td>\n",
       "      <td>No</td>\n",
       "      <td>No</td>\n",
       "      <td>No</td>\n",
       "      <td>No</td>\n",
       "      <td>No</td>\n",
       "      <td>0.906</td>\n",
       "      <td>0.511</td>\n",
       "      <td>52.341465</td>\n",
       "    </tr>\n",
       "    <tr>\n",
       "      <th>3</th>\n",
       "      <td>Almond Joy</td>\n",
       "      <td>Yes</td>\n",
       "      <td>No</td>\n",
       "      <td>No</td>\n",
       "      <td>Yes</td>\n",
       "      <td>No</td>\n",
       "      <td>No</td>\n",
       "      <td>No</td>\n",
       "      <td>Yes</td>\n",
       "      <td>No</td>\n",
       "      <td>0.465</td>\n",
       "      <td>0.767</td>\n",
       "      <td>50.347546</td>\n",
       "    </tr>\n",
       "    <tr>\n",
       "      <th>4</th>\n",
       "      <td>Baby Ruth</td>\n",
       "      <td>Yes</td>\n",
       "      <td>No</td>\n",
       "      <td>Yes</td>\n",
       "      <td>Yes</td>\n",
       "      <td>Yes</td>\n",
       "      <td>No</td>\n",
       "      <td>No</td>\n",
       "      <td>Yes</td>\n",
       "      <td>No</td>\n",
       "      <td>0.604</td>\n",
       "      <td>0.767</td>\n",
       "      <td>56.914547</td>\n",
       "    </tr>\n",
       "  </tbody>\n",
       "</table>\n",
       "</div>"
      ],
      "text/plain": [
       "   competitorname chocolate fruity caramel peanutyalmondy nougat  \\\n",
       "id                                                                 \n",
       "0       100 Grand       Yes     No     Yes             No     No   \n",
       "1    3 Musketeers       Yes     No      No             No    Yes   \n",
       "2       Air Heads        No    Yes      No             No     No   \n",
       "3      Almond Joy       Yes     No      No            Yes     No   \n",
       "4       Baby Ruth       Yes     No     Yes            Yes    Yes   \n",
       "\n",
       "   crispedricewafer hard  bar pluribus  sugarpercent  pricepercent  winpercent  \n",
       "id                                                                              \n",
       "0               Yes   No  Yes       No         0.732         0.860   66.971725  \n",
       "1                No   No  Yes       No         0.604         0.511   67.602936  \n",
       "2                No   No   No       No         0.906         0.511   52.341465  \n",
       "3                No   No  Yes       No         0.465         0.767   50.347546  \n",
       "4                No   No  Yes       No         0.604         0.767   56.914547  "
      ]
     },
     "execution_count": 5,
     "metadata": {},
     "output_type": "execute_result"
    }
   ],
   "source": [
    "# Print the first five rows of the data\n",
    "candy_data.head()# Your code here"
   ]
  },
  {
   "cell_type": "markdown",
   "id": "8d69d8a3",
   "metadata": {
    "papermill": {
     "duration": 0.01386,
     "end_time": "2023-09-10T17:55:57.998889",
     "exception": false,
     "start_time": "2023-09-10T17:55:57.985029",
     "status": "completed"
    },
    "tags": []
   },
   "source": [
    "The dataset contains 83 rows, where each corresponds to a different candy bar.  There are 13 columns:\n",
    "- `'competitorname'` contains the name of the candy bar. \n",
    "- the next **9** columns (from `'chocolate'` to `'pluribus'`) describe the candy.  For instance, rows with chocolate candies have `\"Yes\"` in the `'chocolate'` column (and candies without chocolate have `\"No\"` in the same column).\n",
    "- `'sugarpercent'` provides some indication of the amount of sugar, where higher values signify higher sugar content.\n",
    "- `'pricepercent'` shows the price per unit, relative to the other candies in the dataset.\n",
    "- `'winpercent'` is calculated from the survey results; higher values indicate that the candy was more popular with survey respondents.\n",
    "\n",
    "Use the first five rows of the data to answer the questions below."
   ]
  },
  {
   "cell_type": "code",
   "execution_count": 6,
   "id": "3742f73d",
   "metadata": {
    "execution": {
     "iopub.execute_input": "2023-09-10T17:55:58.028980Z",
     "iopub.status.busy": "2023-09-10T17:55:58.028548Z",
     "iopub.status.idle": "2023-09-10T17:55:58.039069Z",
     "shell.execute_reply": "2023-09-10T17:55:58.037856Z"
    },
    "papermill": {
     "duration": 0.028535,
     "end_time": "2023-09-10T17:55:58.041606",
     "exception": false,
     "start_time": "2023-09-10T17:55:58.013071",
     "status": "completed"
    },
    "tags": []
   },
   "outputs": [
    {
     "data": {
      "application/javascript": [
       "parent.postMessage({\"jupyterEvent\": \"custom.exercise_interaction\", \"data\": {\"outcomeType\": 1, \"valueTowardsCompletion\": 0.3333333333333333, \"interactionType\": 1, \"questionType\": 1, \"questionId\": \"2_ReviewData\", \"learnToolsVersion\": \"0.3.4\", \"failureMessage\": \"\", \"exceptionClass\": \"\", \"trace\": \"\"}}, \"*\")"
      ],
      "text/plain": [
       "<IPython.core.display.Javascript object>"
      ]
     },
     "metadata": {},
     "output_type": "display_data"
    },
    {
     "data": {
      "text/markdown": [
       "<span style=\"color:#33cc33\">Correct</span>"
      ],
      "text/plain": [
       "Correct"
      ]
     },
     "metadata": {},
     "output_type": "display_data"
    }
   ],
   "source": [
    "# Fill in the line below: Which candy was more popular with survey respondents:\n",
    "# '3 Musketeers' or 'Almond Joy'?  (Please enclose your answer in single quotes.)\n",
    "more_popular = '3 Musketeers'\n",
    "\n",
    "# Fill in the line below: Which candy has higher sugar content: \n",
    "# or 'Baby Ruth'? (Please enclose your answer in single quotes.)\n",
    "more_sugar = 'Air Heads'\n",
    "\n",
    "# Check your answers\n",
    "step_2.check()"
   ]
  },
  {
   "cell_type": "code",
   "execution_count": 7,
   "id": "cf34b143",
   "metadata": {
    "execution": {
     "iopub.execute_input": "2023-09-10T17:55:58.072336Z",
     "iopub.status.busy": "2023-09-10T17:55:58.071883Z",
     "iopub.status.idle": "2023-09-10T17:55:58.077326Z",
     "shell.execute_reply": "2023-09-10T17:55:58.075859Z"
    },
    "papermill": {
     "duration": 0.023952,
     "end_time": "2023-09-10T17:55:58.080076",
     "exception": false,
     "start_time": "2023-09-10T17:55:58.056124",
     "status": "completed"
    },
    "tags": []
   },
   "outputs": [],
   "source": [
    "# Lines below will give you a hint or solution code\n",
    "#step_2.hint()\n",
    "#step_2.solution()"
   ]
  },
  {
   "cell_type": "markdown",
   "id": "27697537",
   "metadata": {
    "papermill": {
     "duration": 0.014167,
     "end_time": "2023-09-10T17:55:58.108860",
     "exception": false,
     "start_time": "2023-09-10T17:55:58.094693",
     "status": "completed"
    },
    "tags": []
   },
   "source": [
    "## Step 3: The role of sugar\n",
    "\n",
    "Do people tend to prefer candies with higher sugar content?  \n",
    "\n",
    "#### Part A\n",
    "\n",
    "Create a scatter plot that shows the relationship between `'sugarpercent'` (on the horizontal x-axis) and `'winpercent'` (on the vertical y-axis).  _Don't add a regression line just yet -- you'll do that in the next step!_"
   ]
  },
  {
   "cell_type": "code",
   "execution_count": 8,
   "id": "7b0acd97",
   "metadata": {
    "execution": {
     "iopub.execute_input": "2023-09-10T17:55:58.139186Z",
     "iopub.status.busy": "2023-09-10T17:55:58.138753Z",
     "iopub.status.idle": "2023-09-10T17:55:58.482623Z",
     "shell.execute_reply": "2023-09-10T17:55:58.481684Z"
    },
    "papermill": {
     "duration": 0.361814,
     "end_time": "2023-09-10T17:55:58.484948",
     "exception": false,
     "start_time": "2023-09-10T17:55:58.123134",
     "status": "completed"
    },
    "tags": []
   },
   "outputs": [
    {
     "data": {
      "application/javascript": [
       "parent.postMessage({\"jupyterEvent\": \"custom.exercise_interaction\", \"data\": {\"outcomeType\": 1, \"valueTowardsCompletion\": 0.3333333333333333, \"interactionType\": 1, \"questionType\": 2, \"questionId\": \"3.1_PlotBlueScatter\", \"learnToolsVersion\": \"0.3.4\", \"failureMessage\": \"\", \"exceptionClass\": \"\", \"trace\": \"\"}}, \"*\")"
      ],
      "text/plain": [
       "<IPython.core.display.Javascript object>"
      ]
     },
     "metadata": {},
     "output_type": "display_data"
    },
    {
     "data": {
      "text/markdown": [
       "<span style=\"color:#33cc33\">Correct</span>"
      ],
      "text/plain": [
       "Correct"
      ]
     },
     "metadata": {},
     "output_type": "display_data"
    },
    {
     "data": {
      "image/png": "[encoded data removed]",
      "text/plain": [
       "<Figure size 640x480 with 1 Axes>"
      ]
     },
     "metadata": {},
     "output_type": "display_data"
    }
   ],
   "source": [
    "# Scatter plot showing the relationship between 'sugarpercent' and 'winpercent' # Your code here\n",
    "\n",
    "sns.scatterplot(x=candy_data['sugarpercent'],y=candy_data['winpercent'])\n",
    "\n",
    "# Check your answer\n",
    "step_3.a.check()"
   ]
  },
  {
   "cell_type": "code",
   "execution_count": 9,
   "id": "cd7914bd",
   "metadata": {
    "execution": {
     "iopub.execute_input": "2023-09-10T17:55:58.519736Z",
     "iopub.status.busy": "2023-09-10T17:55:58.518688Z",
     "iopub.status.idle": "2023-09-10T17:55:58.523197Z",
     "shell.execute_reply": "2023-09-10T17:55:58.522282Z"
    },
    "papermill": {
     "duration": 0.024587,
     "end_time": "2023-09-10T17:55:58.525731",
     "exception": false,
     "start_time": "2023-09-10T17:55:58.501144",
     "status": "completed"
    },
    "tags": []
   },
   "outputs": [],
   "source": [
    "# Lines below will give you a hint or solution code\n",
    "#step_3.a.hint()\n",
    "#step_3.a.solution_plot()"
   ]
  },
  {
   "cell_type": "markdown",
   "id": "afb15e3f",
   "metadata": {
    "papermill": {
     "duration": 0.014657,
     "end_time": "2023-09-10T17:55:58.556167",
     "exception": false,
     "start_time": "2023-09-10T17:55:58.541510",
     "status": "completed"
    },
    "tags": []
   },
   "source": [
    "#### Part B\n",
    "\n",
    "Does the scatter plot show a **strong** correlation between the two variables?  If so, are candies with more sugar relatively more or less popular with the survey respondents?"
   ]
  },
  {
   "cell_type": "code",
   "execution_count": 10,
   "id": "1851cef2",
   "metadata": {
    "execution": {
     "iopub.execute_input": "2023-09-10T17:55:58.588641Z",
     "iopub.status.busy": "2023-09-10T17:55:58.587913Z",
     "iopub.status.idle": "2023-09-10T17:55:58.592389Z",
     "shell.execute_reply": "2023-09-10T17:55:58.591483Z"
    },
    "papermill": {
     "duration": 0.023344,
     "end_time": "2023-09-10T17:55:58.594837",
     "exception": false,
     "start_time": "2023-09-10T17:55:58.571493",
     "status": "completed"
    },
    "tags": []
   },
   "outputs": [],
   "source": [
    "#step_3.b.hint()"
   ]
  },
  {
   "cell_type": "code",
   "execution_count": 11,
   "id": "ccb40621",
   "metadata": {
    "execution": {
     "iopub.execute_input": "2023-09-10T17:55:58.627269Z",
     "iopub.status.busy": "2023-09-10T17:55:58.626488Z",
     "iopub.status.idle": "2023-09-10T17:55:58.635417Z",
     "shell.execute_reply": "2023-09-10T17:55:58.634615Z"
    },
    "papermill": {
     "duration": 0.027319,
     "end_time": "2023-09-10T17:55:58.637474",
     "exception": false,
     "start_time": "2023-09-10T17:55:58.610155",
     "status": "completed"
    },
    "tags": []
   },
   "outputs": [
    {
     "data": {
      "application/javascript": [
       "parent.postMessage({\"jupyterEvent\": \"custom.exercise_interaction\", \"data\": {\"interactionType\": 3, \"questionType\": 4, \"questionId\": \"3.2_ThinkBlueScatter\", \"learnToolsVersion\": \"0.3.4\", \"valueTowardsCompletion\": 0.0, \"failureMessage\": \"\", \"exceptionClass\": \"\", \"trace\": \"\", \"outcomeType\": 4}}, \"*\")"
      ],
      "text/plain": [
       "<IPython.core.display.Javascript object>"
      ]
     },
     "metadata": {},
     "output_type": "display_data"
    },
    {
     "data": {
      "text/markdown": [
       "<span style=\"color:#33cc99\">Solution:</span> The scatter plot does not show a strong correlation between the two variables. Since there is no clear relationship between the two variables, this tells us that sugar content does not play a strong role in candy popularity."
      ],
      "text/plain": [
       "Solution: The scatter plot does not show a strong correlation between the two variables. Since there is no clear relationship between the two variables, this tells us that sugar content does not play a strong role in candy popularity."
      ]
     },
     "metadata": {},
     "output_type": "display_data"
    }
   ],
   "source": [
    "# Check your answer (Run this code cell to receive credit!)\n",
    "step_3.b.solution()"
   ]
  },
  {
   "cell_type": "markdown",
   "id": "695982ed",
   "metadata": {
    "papermill": {
     "duration": 0.015203,
     "end_time": "2023-09-10T17:55:58.668235",
     "exception": false,
     "start_time": "2023-09-10T17:55:58.653032",
     "status": "completed"
    },
    "tags": []
   },
   "source": [
    "## Step 4: Take a closer look\n",
    "\n",
    "#### Part A\n",
    "\n",
    "Create the same scatter plot you created in **Step 3**, but now with a regression line!"
   ]
  },
  {
   "cell_type": "code",
   "execution_count": 12,
   "id": "579dbb52",
   "metadata": {
    "execution": {
     "iopub.execute_input": "2023-09-10T17:55:58.701721Z",
     "iopub.status.busy": "2023-09-10T17:55:58.700922Z",
     "iopub.status.idle": "2023-09-10T17:55:59.141602Z",
     "shell.execute_reply": "2023-09-10T17:55:59.140447Z"
    },
    "papermill": {
     "duration": 0.461178,
     "end_time": "2023-09-10T17:55:59.145143",
     "exception": false,
     "start_time": "2023-09-10T17:55:58.683965",
     "status": "completed"
    },
    "tags": []
   },
   "outputs": [
    {
     "data": {
      "application/javascript": [
       "parent.postMessage({\"jupyterEvent\": \"custom.exercise_interaction\", \"data\": {\"outcomeType\": 1, \"valueTowardsCompletion\": 0.3333333333333333, \"interactionType\": 1, \"questionType\": 2, \"questionId\": \"4.1_PlotBlueReg\", \"learnToolsVersion\": \"0.3.4\", \"failureMessage\": \"\", \"exceptionClass\": \"\", \"trace\": \"\"}}, \"*\")"
      ],
      "text/plain": [
       "<IPython.core.display.Javascript object>"
      ]
     },
     "metadata": {},
     "output_type": "display_data"
    },
    {
     "data": {
      "text/markdown": [
       "<span style=\"color:#33cc33\">Correct</span>"
      ],
      "text/plain": [
       "Correct"
      ]
     },
     "metadata": {},
     "output_type": "display_data"
    },
    {
     "data": {
      "image/png": "[encoded data removed]",
      "text/plain": [
       "<Figure size 640x480 with 1 Axes>"
      ]
     },
     "metadata": {},
     "output_type": "display_data"
    }
   ],
   "source": [
    "# Scatter plot w/ regression line showing the relationship between 'sugarpercent' and 'winpercent'\n",
    " # Your code here\n",
    "sns.regplot(x=candy_data['sugarpercent'],y=candy_data['winpercent'])\n",
    "# Check your answer\n",
    "step_4.a.check()"
   ]
  },
  {
   "cell_type": "code",
   "execution_count": 13,
   "id": "b76f9931",
   "metadata": {
    "execution": {
     "iopub.execute_input": "2023-09-10T17:55:59.180272Z",
     "iopub.status.busy": "2023-09-10T17:55:59.179864Z",
     "iopub.status.idle": "2023-09-10T17:55:59.184114Z",
     "shell.execute_reply": "2023-09-10T17:55:59.183206Z"
    },
    "papermill": {
     "duration": 0.024502,
     "end_time": "2023-09-10T17:55:59.186480",
     "exception": false,
     "start_time": "2023-09-10T17:55:59.161978",
     "status": "completed"
    },
    "tags": []
   },
   "outputs": [],
   "source": [
    "# Lines below will give you a hint or solution code\n",
    "#step_4.a.hint()\n",
    "#step_4.a.solution_plot()"
   ]
  },
  {
   "cell_type": "markdown",
   "id": "8488a3b8",
   "metadata": {
    "papermill": {
     "duration": 0.016255,
     "end_time": "2023-09-10T17:55:59.219406",
     "exception": false,
     "start_time": "2023-09-10T17:55:59.203151",
     "status": "completed"
    },
    "tags": []
   },
   "source": [
    "#### Part B\n",
    "\n",
    "According to the plot above, is there a **slight** correlation between `'winpercent'` and `'sugarpercent'`?  What does this tell you about the candy that people tend to prefer?"
   ]
  },
  {
   "cell_type": "code",
   "execution_count": 14,
   "id": "a80ce7d2",
   "metadata": {
    "execution": {
     "iopub.execute_input": "2023-09-10T17:55:59.320309Z",
     "iopub.status.busy": "2023-09-10T17:55:59.319094Z",
     "iopub.status.idle": "2023-09-10T17:55:59.324454Z",
     "shell.execute_reply": "2023-09-10T17:55:59.323569Z"
    },
    "papermill": {
     "duration": 0.026469,
     "end_time": "2023-09-10T17:55:59.326808",
     "exception": false,
     "start_time": "2023-09-10T17:55:59.300339",
     "status": "completed"
    },
    "tags": []
   },
   "outputs": [],
   "source": [
    "#step_4.b.hint()"
   ]
  },
  {
   "cell_type": "code",
   "execution_count": 15,
   "id": "4955dd9c",
   "metadata": {
    "execution": {
     "iopub.execute_input": "2023-09-10T17:55:59.362492Z",
     "iopub.status.busy": "2023-09-10T17:55:59.361537Z",
     "iopub.status.idle": "2023-09-10T17:55:59.369946Z",
     "shell.execute_reply": "2023-09-10T17:55:59.369126Z"
    },
    "papermill": {
     "duration": 0.028849,
     "end_time": "2023-09-10T17:55:59.372407",
     "exception": false,
     "start_time": "2023-09-10T17:55:59.343558",
     "status": "completed"
    },
    "tags": []
   },
   "outputs": [
    {
     "data": {
      "application/javascript": [
       "parent.postMessage({\"jupyterEvent\": \"custom.exercise_interaction\", \"data\": {\"interactionType\": 3, \"questionType\": 4, \"questionId\": \"4.2_ThinkBlueReg\", \"learnToolsVersion\": \"0.3.4\", \"valueTowardsCompletion\": 0.0, \"failureMessage\": \"\", \"exceptionClass\": \"\", \"trace\": \"\", \"outcomeType\": 4}}, \"*\")"
      ],
      "text/plain": [
       "<IPython.core.display.Javascript object>"
      ]
     },
     "metadata": {},
     "output_type": "display_data"
    },
    {
     "data": {
      "text/markdown": [
       "<span style=\"color:#33cc99\">Solution:</span> Since the regression line has a slightly positive slope, this tells us that there is a slightly positive correlation between `'winpercent'` and `'sugarpercent'`. Thus, people have a slight preference for candies containing relatively more sugar."
      ],
      "text/plain": [
       "Solution: Since the regression line has a slightly positive slope, this tells us that there is a slightly positive correlation between `'winpercent'` and `'sugarpercent'`. Thus, people have a slight preference for candies containing relatively more sugar."
      ]
     },
     "metadata": {},
     "output_type": "display_data"
    }
   ],
   "source": [
    "# Check your answer (Run this code cell to receive credit!)\n",
    "step_4.b.solution()"
   ]
  },
  {
   "cell_type": "markdown",
   "id": "570c00e5",
   "metadata": {
    "papermill": {
     "duration": 0.018424,
     "end_time": "2023-09-10T17:55:59.407902",
     "exception": false,
     "start_time": "2023-09-10T17:55:59.389478",
     "status": "completed"
    },
    "tags": []
   },
   "source": [
    "## Step 5: Chocolate!\n",
    "\n",
    "In the code cell below, create a scatter plot to show the relationship between `'pricepercent'` (on the horizontal x-axis) and `'winpercent'` (on the vertical y-axis). Use the `'chocolate'` column to color-code the points.  _Don't add any regression lines just yet -- you'll do that in the next step!_"
   ]
  },
  {
   "cell_type": "code",
   "execution_count": 16,
   "id": "2d292b2a",
   "metadata": {
    "execution": {
     "iopub.execute_input": "2023-09-10T17:55:59.444065Z",
     "iopub.status.busy": "2023-09-10T17:55:59.443389Z",
     "iopub.status.idle": "2023-09-10T17:55:59.759332Z",
     "shell.execute_reply": "2023-09-10T17:55:59.758499Z"
    },
    "papermill": {
     "duration": 0.336629,
     "end_time": "2023-09-10T17:55:59.761601",
     "exception": false,
     "start_time": "2023-09-10T17:55:59.424972",
     "status": "completed"
    },
    "tags": []
   },
   "outputs": [
    {
     "data": {
      "application/javascript": [
       "parent.postMessage({\"jupyterEvent\": \"custom.exercise_interaction\", \"data\": {\"outcomeType\": 1, \"valueTowardsCompletion\": 0.3333333333333333, \"interactionType\": 1, \"questionType\": 2, \"questionId\": \"5_ColorScatter\", \"learnToolsVersion\": \"0.3.4\", \"failureMessage\": \"\", \"exceptionClass\": \"\", \"trace\": \"\"}}, \"*\")"
      ],
      "text/plain": [
       "<IPython.core.display.Javascript object>"
      ]
     },
     "metadata": {},
     "output_type": "display_data"
    },
    {
     "data": {
      "text/markdown": [
       "<span style=\"color:#33cc33\">Correct</span>"
      ],
      "text/plain": [
       "Correct"
      ]
     },
     "metadata": {},
     "output_type": "display_data"
    },
    {
     "data": {
      "image/png": "[encoded data removed]",
      "text/plain": [
       "<Figure size 640x480 with 1 Axes>"
      ]
     },
     "metadata": {},
     "output_type": "display_data"
    }
   ],
   "source": [
    "# Scatter plot showing the relationship between 'pricepercent', 'winpercent', and 'chocolate'\n",
    "sns.scatterplot(x=candy_data['pricepercent'],y=candy_data['winpercent'])\n",
    "\n",
    "# Check your answer\n",
    "step_5.check()"
   ]
  },
  {
   "cell_type": "code",
   "execution_count": 17,
   "id": "afe5c309",
   "metadata": {
    "execution": {
     "iopub.execute_input": "2023-09-10T17:55:59.800750Z",
     "iopub.status.busy": "2023-09-10T17:55:59.800319Z",
     "iopub.status.idle": "2023-09-10T17:55:59.804948Z",
     "shell.execute_reply": "2023-09-10T17:55:59.803714Z"
    },
    "papermill": {
     "duration": 0.027305,
     "end_time": "2023-09-10T17:55:59.807379",
     "exception": false,
     "start_time": "2023-09-10T17:55:59.780074",
     "status": "completed"
    },
    "tags": []
   },
   "outputs": [],
   "source": [
    "# Lines below will give you a hint or solution code\n",
    "#step_5.hint()\n",
    "#step_5.solution_plot()"
   ]
  },
  {
   "cell_type": "markdown",
   "id": "6a685335",
   "metadata": {
    "papermill": {
     "duration": 0.017427,
     "end_time": "2023-09-10T17:55:59.843905",
     "exception": false,
     "start_time": "2023-09-10T17:55:59.826478",
     "status": "completed"
    },
    "tags": []
   },
   "source": [
    "Can you see any interesting patterns in the scatter plot?  We'll investigate this plot further  by adding regression lines in the next step!\n",
    "\n",
    "## Step 6: Investigate chocolate\n",
    "\n",
    "#### Part A\n",
    "\n",
    "Create the same scatter plot you created in **Step 5**, but now with two regression lines, corresponding to (1) chocolate candies and (2) candies without chocolate."
   ]
  },
  {
   "cell_type": "code",
   "execution_count": 18,
   "id": "2b8fb38d",
   "metadata": {
    "execution": {
     "iopub.execute_input": "2023-09-10T17:55:59.881268Z",
     "iopub.status.busy": "2023-09-10T17:55:59.880881Z",
     "iopub.status.idle": "2023-09-10T17:56:00.871799Z",
     "shell.execute_reply": "2023-09-10T17:56:00.870577Z"
    },
    "papermill": {
     "duration": 1.012609,
     "end_time": "2023-09-10T17:56:00.874389",
     "exception": false,
     "start_time": "2023-09-10T17:55:59.861780",
     "status": "completed"
    },
    "tags": []
   },
   "outputs": [
    {
     "data": {
      "application/javascript": [
       "parent.postMessage({\"jupyterEvent\": \"custom.exercise_interaction\", \"data\": {\"outcomeType\": 1, \"valueTowardsCompletion\": 0.3333333333333333, \"interactionType\": 1, \"questionType\": 2, \"questionId\": \"6.1_PlotColorReg\", \"learnToolsVersion\": \"0.3.4\", \"failureMessage\": \"\", \"exceptionClass\": \"\", \"trace\": \"\"}}, \"*\")"
      ],
      "text/plain": [
       "<IPython.core.display.Javascript object>"
      ]
     },
     "metadata": {},
     "output_type": "display_data"
    },
    {
     "data": {
      "text/markdown": [
       "<span style=\"color:#33cc33\">Correct</span>"
      ],
      "text/plain": [
       "Correct"
      ]
     },
     "metadata": {},
     "output_type": "display_data"
    },
    {
     "data": {
      "image/png": "[encoded data removed]",
      "text/plain": [
       "<Figure size 578.611x500 with 1 Axes>"
      ]
     },
     "metadata": {},
     "output_type": "display_data"
    }
   ],
   "source": [
    "# Color-coded scatter plot w/ regression lines\n",
    "sns.lmplot(x='pricepercent',y='winpercent',hue='chocolate',data=candy_data)\n",
    "\n",
    "# Check your answer\n",
    "step_6.a.check()"
   ]
  },
  {
   "cell_type": "code",
   "execution_count": 19,
   "id": "e8da9b2c",
   "metadata": {
    "execution": {
     "iopub.execute_input": "2023-09-10T17:56:00.916469Z",
     "iopub.status.busy": "2023-09-10T17:56:00.915996Z",
     "iopub.status.idle": "2023-09-10T17:56:00.920531Z",
     "shell.execute_reply": "2023-09-10T17:56:00.919472Z"
    },
    "papermill": {
     "duration": 0.028462,
     "end_time": "2023-09-10T17:56:00.922727",
     "exception": false,
     "start_time": "2023-09-10T17:56:00.894265",
     "status": "completed"
    },
    "tags": []
   },
   "outputs": [],
   "source": [
    "# Lines below will give you a hint or solution code\n",
    "#step_6.a.hint()\n",
    "#step_6.a.solution_plot()"
   ]
  },
  {
   "cell_type": "markdown",
   "id": "dd00e64c",
   "metadata": {
    "papermill": {
     "duration": 0.019054,
     "end_time": "2023-09-10T17:56:00.960809",
     "exception": false,
     "start_time": "2023-09-10T17:56:00.941755",
     "status": "completed"
    },
    "tags": []
   },
   "source": [
    "#### Part B\n",
    "\n",
    "Using the regression lines, what conclusions can you draw about the effects of chocolate and price on candy popularity?"
   ]
  },
  {
   "cell_type": "code",
   "execution_count": 20,
   "id": "6e1eefd3",
   "metadata": {
    "execution": {
     "iopub.execute_input": "2023-09-10T17:56:01.001434Z",
     "iopub.status.busy": "2023-09-10T17:56:01.000223Z",
     "iopub.status.idle": "2023-09-10T17:56:01.004818Z",
     "shell.execute_reply": "2023-09-10T17:56:01.003984Z"
    },
    "papermill": {
     "duration": 0.027181,
     "end_time": "2023-09-10T17:56:01.007052",
     "exception": false,
     "start_time": "2023-09-10T17:56:00.979871",
     "status": "completed"
    },
    "tags": []
   },
   "outputs": [],
   "source": [
    "#step_6.b.hint()"
   ]
  },
  {
   "cell_type": "code",
   "execution_count": 21,
   "id": "6415fdaf",
   "metadata": {
    "execution": {
     "iopub.execute_input": "2023-09-10T17:56:01.047982Z",
     "iopub.status.busy": "2023-09-10T17:56:01.046919Z",
     "iopub.status.idle": "2023-09-10T17:56:01.055175Z",
     "shell.execute_reply": "2023-09-10T17:56:01.054319Z"
    },
    "papermill": {
     "duration": 0.030695,
     "end_time": "2023-09-10T17:56:01.057491",
     "exception": false,
     "start_time": "2023-09-10T17:56:01.026796",
     "status": "completed"
    },
    "tags": []
   },
   "outputs": [
    {
     "data": {
      "application/javascript": [
       "parent.postMessage({\"jupyterEvent\": \"custom.exercise_interaction\", \"data\": {\"interactionType\": 3, \"questionType\": 4, \"questionId\": \"6.2_ThinkColorReg\", \"learnToolsVersion\": \"0.3.4\", \"valueTowardsCompletion\": 0.0, \"failureMessage\": \"\", \"exceptionClass\": \"\", \"trace\": \"\", \"outcomeType\": 4}}, \"*\")"
      ],
      "text/plain": [
       "<IPython.core.display.Javascript object>"
      ]
     },
     "metadata": {},
     "output_type": "display_data"
    },
    {
     "data": {
      "text/markdown": [
       "<span style=\"color:#33cc99\">Solution:</span> We'll begin with the regression line for chocolate candies. Since this line has a slightly positive slope, we can say that more expensive chocolate candies tend to be more popular (than relatively cheaper chocolate candies).  Likewise, since the regression line for candies without chocolate has a negative slope, we can say that if candies don't contain chocolate, they tend to be more popular when they are cheaper.  One important note, however, is that the dataset is quite small -- so we shouldn't invest too much trust in these patterns!  To inspire more confidence in the results, we should add more candies to the dataset."
      ],
      "text/plain": [
       "Solution: We'll begin with the regression line for chocolate candies. Since this line has a slightly positive slope, we can say that more expensive chocolate candies tend to be more popular (than relatively cheaper chocolate candies).  Likewise, since the regression line for candies without chocolate has a negative slope, we can say that if candies don't contain chocolate, they tend to be more popular when they are cheaper.  One important note, however, is that the dataset is quite small -- so we shouldn't invest too much trust in these patterns!  To inspire more confidence in the results, we should add more candies to the dataset."
      ]
     },
     "metadata": {},
     "output_type": "display_data"
    }
   ],
   "source": [
    "# Check your answer (Run this code cell to receive credit!)\n",
    "step_6.b.solution()"
   ]
  },
  {
   "cell_type": "markdown",
   "id": "f2212e9f",
   "metadata": {
    "papermill": {
     "duration": 0.019343,
     "end_time": "2023-09-10T17:56:01.097004",
     "exception": false,
     "start_time": "2023-09-10T17:56:01.077661",
     "status": "completed"
    },
    "tags": []
   },
   "source": [
    "## Step 7: Everybody loves chocolate.\n",
    "\n",
    "#### Part A\n",
    "\n",
    "Create a categorical scatter plot to highlight the relationship between `'chocolate'` and `'winpercent'`.  Put `'chocolate'` on the (horizontal) x-axis, and `'winpercent'` on the (vertical) y-axis."
   ]
  },
  {
   "cell_type": "code",
   "execution_count": 22,
   "id": "0ca10878",
   "metadata": {
    "execution": {
     "iopub.execute_input": "2023-09-10T17:56:01.138504Z",
     "iopub.status.busy": "2023-09-10T17:56:01.138061Z",
     "iopub.status.idle": "2023-09-10T17:56:01.689580Z",
     "shell.execute_reply": "2023-09-10T17:56:01.687905Z"
    },
    "papermill": {
     "duration": 0.576996,
     "end_time": "2023-09-10T17:56:01.694178",
     "exception": false,
     "start_time": "2023-09-10T17:56:01.117182",
     "status": "completed"
    },
    "tags": []
   },
   "outputs": [
    {
     "data": {
      "application/javascript": [
       "parent.postMessage({\"jupyterEvent\": \"custom.exercise_interaction\", \"data\": {\"outcomeType\": 1, \"valueTowardsCompletion\": 0.3333333333333333, \"interactionType\": 1, \"questionType\": 2, \"questionId\": \"7.1_PlotSwarm\", \"learnToolsVersion\": \"0.3.4\", \"failureMessage\": \"\", \"exceptionClass\": \"\", \"trace\": \"\"}}, \"*\")"
      ],
      "text/plain": [
       "<IPython.core.display.Javascript object>"
      ]
     },
     "metadata": {},
     "output_type": "display_data"
    },
    {
     "data": {
      "text/markdown": [
       "<span style=\"color:#33cc33\">Correct</span>"
      ],
      "text/plain": [
       "Correct"
      ]
     },
     "metadata": {},
     "output_type": "display_data"
    },
    {
     "data": {
      "image/png": "[encoded data removed]",
      "text/plain": [
       "<Figure size 640x480 with 1 Axes>"
      ]
     },
     "metadata": {},
     "output_type": "display_data"
    }
   ],
   "source": [
    "# Scatter plot showing the relationship between 'chocolate' and 'winpercent'\n",
    "\n",
    "sns.swarmplot(x=candy_data['chocolate'], y=candy_data['winpercent'])\n",
    "# Check your answer\n",
    "step_7.a.check()"
   ]
  },
  {
   "cell_type": "code",
   "execution_count": 23,
   "id": "2b3f452b",
   "metadata": {
    "execution": {
     "iopub.execute_input": "2023-09-10T17:56:01.749511Z",
     "iopub.status.busy": "2023-09-10T17:56:01.748695Z",
     "iopub.status.idle": "2023-09-10T17:56:01.753163Z",
     "shell.execute_reply": "2023-09-10T17:56:01.752061Z"
    },
    "papermill": {
     "duration": 0.028707,
     "end_time": "2023-09-10T17:56:01.755689",
     "exception": false,
     "start_time": "2023-09-10T17:56:01.726982",
     "status": "completed"
    },
    "tags": []
   },
   "outputs": [],
   "source": [
    "# Lines below will give you a hint or solution code\n",
    "#step_7.a.hint()\n",
    "#step_7.a.solution_plot()"
   ]
  },
  {
   "cell_type": "markdown",
   "id": "9397e4d1",
   "metadata": {
    "papermill": {
     "duration": 0.02092,
     "end_time": "2023-09-10T17:56:01.796988",
     "exception": false,
     "start_time": "2023-09-10T17:56:01.776068",
     "status": "completed"
    },
    "tags": []
   },
   "source": [
    "#### Part B\n",
    "\n",
    "You decide to dedicate a section of your report to the fact that chocolate candies tend to be more popular than candies without chocolate.  Which plot is more appropriate to tell this story: the plot from **Step 6**, or the plot from **Step 7**?"
   ]
  },
  {
   "cell_type": "code",
   "execution_count": 24,
   "id": "a8c506b4",
   "metadata": {
    "execution": {
     "iopub.execute_input": "2023-09-10T17:56:01.840289Z",
     "iopub.status.busy": "2023-09-10T17:56:01.839505Z",
     "iopub.status.idle": "2023-09-10T17:56:01.843911Z",
     "shell.execute_reply": "2023-09-10T17:56:01.842798Z"
    },
    "papermill": {
     "duration": 0.028777,
     "end_time": "2023-09-10T17:56:01.846343",
     "exception": false,
     "start_time": "2023-09-10T17:56:01.817566",
     "status": "completed"
    },
    "tags": []
   },
   "outputs": [],
   "source": [
    "#step_7.b.hint()"
   ]
  },
  {
   "cell_type": "code",
   "execution_count": 25,
   "id": "410af4b7",
   "metadata": {
    "execution": {
     "iopub.execute_input": "2023-09-10T17:56:01.889748Z",
     "iopub.status.busy": "2023-09-10T17:56:01.888982Z",
     "iopub.status.idle": "2023-09-10T17:56:01.896817Z",
     "shell.execute_reply": "2023-09-10T17:56:01.895770Z"
    },
    "papermill": {
     "duration": 0.031971,
     "end_time": "2023-09-10T17:56:01.899153",
     "exception": false,
     "start_time": "2023-09-10T17:56:01.867182",
     "status": "completed"
    },
    "tags": []
   },
   "outputs": [
    {
     "data": {
      "application/javascript": [
       "parent.postMessage({\"jupyterEvent\": \"custom.exercise_interaction\", \"data\": {\"interactionType\": 3, \"questionType\": 4, \"questionId\": \"7.2_ThinkSwarm\", \"learnToolsVersion\": \"0.3.4\", \"valueTowardsCompletion\": 0.0, \"failureMessage\": \"\", \"exceptionClass\": \"\", \"trace\": \"\", \"outcomeType\": 4}}, \"*\")"
      ],
      "text/plain": [
       "<IPython.core.display.Javascript object>"
      ]
     },
     "metadata": {},
     "output_type": "display_data"
    },
    {
     "data": {
      "text/markdown": [
       "<span style=\"color:#33cc99\">Solution:</span> In this case, the categorical scatter plot from **Step 7** is the more appropriate plot. While both plots tell the desired story, the plot from **Step 6** conveys far more information that could distract from the main point."
      ],
      "text/plain": [
       "Solution: In this case, the categorical scatter plot from **Step 7** is the more appropriate plot. While both plots tell the desired story, the plot from **Step 6** conveys far more information that could distract from the main point."
      ]
     },
     "metadata": {},
     "output_type": "display_data"
    }
   ],
   "source": [
    "# Check your answer (Run this code cell to receive credit!)\n",
    "step_7.b.solution()"
   ]
  },
  {
   "cell_type": "markdown",
   "id": "93f9f14c",
   "metadata": {
    "papermill": {
     "duration": 0.021006,
     "end_time": "2023-09-10T17:56:01.940953",
     "exception": false,
     "start_time": "2023-09-10T17:56:01.919947",
     "status": "completed"
    },
    "tags": []
   },
   "source": [
    "## Keep going\n",
    "\n",
    "Explore **[histograms and density plots](https://www.kaggle.com/alexisbcook/distributions)**."
   ]
  },
  {
   "cell_type": "markdown",
   "id": "ff82989e",
   "metadata": {
    "papermill": {
     "duration": 0.020909,
     "end_time": "2023-09-10T17:56:01.982690",
     "exception": false,
     "start_time": "2023-09-10T17:56:01.961781",
     "status": "completed"
    },
    "tags": []
   },
   "source": [
    "---\n",
    "\n",
    "\n",
    "\n",
    "\n",
    "*Have questions or comments? Visit the [course discussion forum](https://www.kaggle.com/learn/data-visualization/discussion) to chat with other learners.*"
   ]
  }
 ],
 "kernelspec": {
  "display_name": "Python 3",
  "language": "python",
  "name": "python3"
 },
 "language_info": {
  "codemirror_mode": {
   "name": "ipython",
   "version": 3
  },
  "file_extension": ".py",
  "mimetype": "text/x-python",
  "name": "python",
  "nbconvert_exporter": "python",
  "pygments_lexer": "ipython3",
  "version": "3.6.4"
 },
 "metadata": {
  "kernelspec": {
   "display_name": "Python 3",
   "language": "python",
   "name": "python3"
  },
  "language_info": {
   "codemirror_mode": {
    "name": "ipython",
    "version": 3
   },
   "file_extension": ".py",
   "mimetype": "text/x-python",
   "name": "python",
   "nbconvert_exporter": "python",
   "pygments_lexer": "ipython3",
   "version": "3.10.12"
  },
  "papermill": {
   "default_parameters": {},
   "duration": 10.862472,
   "end_time": "2023-09-10T17:56:02.624576",
   "environment_variables": {},
   "exception": null,
   "input_path": "__notebook__.ipynb",
   "output_path": "__notebook__.ipynb",
   "parameters": {},
   "start_time": "2023-09-10T17:55:51.762104",
   "version": "2.4.0"
  }
 },
 "nbformat": 4,
 "nbformat_minor": 5
}
